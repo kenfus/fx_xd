{
 "cells": [
  {
   "cell_type": "code",
   "execution_count": 1,
   "metadata": {},
   "outputs": [],
   "source": [
    "import fxcmpy\n",
    "import pandas as pd\n",
    "import plotly.express as px\n",
    "import datetime\n",
    "import numpy as np\n",
    "import backtrader as bt"
   ]
  },
  {
   "cell_type": "code",
   "execution_count": 2,
   "metadata": {},
   "outputs": [],
   "source": [
    "con = fxcmpy.fxcmpy(config_file='fxcm.cfg', server='demo') # server = 'real' for live"
   ]
  },
  {
   "cell_type": "code",
   "execution_count": 3,
   "metadata": {},
   "outputs": [
    {
     "name": "stdout",
     "output_type": "stream",
     "text": [
      "['EUR/USD', 'USD/JPY', 'GBP/USD', 'USD/CHF', 'EUR/CHF', 'AUD/USD', 'USD/CAD', 'NZD/USD', 'EUR/GBP', 'EUR/JPY', 'GBP/JPY', 'CHF/JPY', 'GBP/CHF', 'EUR/AUD', 'EUR/CAD', 'AUD/CAD', 'AUD/JPY', 'CAD/JPY', 'NZD/JPY', 'GBP/CAD', 'GBP/NZD', 'GBP/AUD', 'AUD/NZD', 'USD/SEK', 'EUR/SEK', 'EUR/NOK', 'USD/NOK', 'USD/MXN', 'AUD/CHF', 'EUR/NZD', 'USD/ZAR', 'USD/HKD', 'ZAR/JPY', 'USD/TRY', 'EUR/TRY', 'NZD/CHF', 'CAD/CHF', 'NZD/CAD', 'TRY/JPY', 'USD/CNH', 'AUS200', 'ESP35', 'FRA40', 'GER30', 'HKG33', 'JPN225', 'NAS100', 'SPX500', 'UK100', 'US30', 'Copper', 'CHN50', 'EUSTX50', 'USDOLLAR', 'US2000', 'USOil', 'UKOil', 'SOYF', 'NGAS', 'WHEATF', 'CORNF', 'Bund', 'XAU/USD', 'XAG/USD', 'EMBasket', 'JPYBasket', 'BTC/USD', 'BCH/USD', 'ETH/USD', 'LTC/USD', 'XRP/USD', 'CryptoMajor', 'USEquities']\n"
     ]
    }
   ],
   "source": [
    "instruments = con.get_instruments()\n",
    "print(instruments)"
   ]
  },
  {
   "cell_type": "markdown",
   "metadata": {},
   "source": [
    "## Getting historical data"
   ]
  },
  {
   "cell_type": "code",
   "execution_count": 4,
   "metadata": {},
   "outputs": [
    {
     "data": {
      "text/html": [
       "<div>\n",
       "<style scoped>\n",
       "    .dataframe tbody tr th:only-of-type {\n",
       "        vertical-align: middle;\n",
       "    }\n",
       "\n",
       "    .dataframe tbody tr th {\n",
       "        vertical-align: top;\n",
       "    }\n",
       "\n",
       "    .dataframe thead th {\n",
       "        text-align: right;\n",
       "    }\n",
       "</style>\n",
       "<table border=\"1\" class=\"dataframe\">\n",
       "  <thead>\n",
       "    <tr style=\"text-align: right;\">\n",
       "      <th></th>\n",
       "      <th>bidopen</th>\n",
       "      <th>bidclose</th>\n",
       "      <th>bidhigh</th>\n",
       "      <th>bidlow</th>\n",
       "      <th>askopen</th>\n",
       "      <th>askclose</th>\n",
       "      <th>askhigh</th>\n",
       "      <th>asklow</th>\n",
       "      <th>tickqty</th>\n",
       "    </tr>\n",
       "    <tr>\n",
       "      <th>date</th>\n",
       "      <th></th>\n",
       "      <th></th>\n",
       "      <th></th>\n",
       "      <th></th>\n",
       "      <th></th>\n",
       "      <th></th>\n",
       "      <th></th>\n",
       "      <th></th>\n",
       "      <th></th>\n",
       "    </tr>\n",
       "  </thead>\n",
       "  <tbody>\n",
       "    <tr>\n",
       "      <th>2018-01-02 22:00:00</th>\n",
       "      <td>0.88910</td>\n",
       "      <td>0.88703</td>\n",
       "      <td>0.89173</td>\n",
       "      <td>0.88580</td>\n",
       "      <td>0.88935</td>\n",
       "      <td>0.88742</td>\n",
       "      <td>0.89193</td>\n",
       "      <td>0.88599</td>\n",
       "      <td>137937</td>\n",
       "    </tr>\n",
       "    <tr>\n",
       "      <th>2018-01-03 22:00:00</th>\n",
       "      <td>0.88703</td>\n",
       "      <td>0.88867</td>\n",
       "      <td>0.88991</td>\n",
       "      <td>0.88471</td>\n",
       "      <td>0.88742</td>\n",
       "      <td>0.88923</td>\n",
       "      <td>0.89012</td>\n",
       "      <td>0.88492</td>\n",
       "      <td>147134</td>\n",
       "    </tr>\n",
       "    <tr>\n",
       "      <th>2018-01-04 22:00:00</th>\n",
       "      <td>0.88867</td>\n",
       "      <td>0.89030</td>\n",
       "      <td>0.89234</td>\n",
       "      <td>0.88798</td>\n",
       "      <td>0.88923</td>\n",
       "      <td>0.89087</td>\n",
       "      <td>0.89255</td>\n",
       "      <td>0.88814</td>\n",
       "      <td>140781</td>\n",
       "    </tr>\n",
       "    <tr>\n",
       "      <th>2018-01-05 22:00:00</th>\n",
       "      <td>0.89030</td>\n",
       "      <td>0.88619</td>\n",
       "      <td>0.89102</td>\n",
       "      <td>0.88619</td>\n",
       "      <td>0.89087</td>\n",
       "      <td>0.88764</td>\n",
       "      <td>0.89140</td>\n",
       "      <td>0.88677</td>\n",
       "      <td>145484</td>\n",
       "    </tr>\n",
       "    <tr>\n",
       "      <th>2018-01-07 22:00:00</th>\n",
       "      <td>0.88619</td>\n",
       "      <td>0.88652</td>\n",
       "      <td>0.88737</td>\n",
       "      <td>0.88613</td>\n",
       "      <td>0.88764</td>\n",
       "      <td>0.88756</td>\n",
       "      <td>0.88850</td>\n",
       "      <td>0.88675</td>\n",
       "      <td>343</td>\n",
       "    </tr>\n",
       "    <tr>\n",
       "      <th>...</th>\n",
       "      <td>...</td>\n",
       "      <td>...</td>\n",
       "      <td>...</td>\n",
       "      <td>...</td>\n",
       "      <td>...</td>\n",
       "      <td>...</td>\n",
       "      <td>...</td>\n",
       "      <td>...</td>\n",
       "      <td>...</td>\n",
       "    </tr>\n",
       "    <tr>\n",
       "      <th>2018-12-26 22:00:00</th>\n",
       "      <td>0.89861</td>\n",
       "      <td>0.89844</td>\n",
       "      <td>0.90070</td>\n",
       "      <td>0.89654</td>\n",
       "      <td>0.89967</td>\n",
       "      <td>0.89880</td>\n",
       "      <td>0.90095</td>\n",
       "      <td>0.89682</td>\n",
       "      <td>125567</td>\n",
       "    </tr>\n",
       "    <tr>\n",
       "      <th>2018-12-27 22:00:00</th>\n",
       "      <td>0.89844</td>\n",
       "      <td>0.90344</td>\n",
       "      <td>0.90601</td>\n",
       "      <td>0.89734</td>\n",
       "      <td>0.89880</td>\n",
       "      <td>0.90434</td>\n",
       "      <td>0.90628</td>\n",
       "      <td>0.89797</td>\n",
       "      <td>358785</td>\n",
       "    </tr>\n",
       "    <tr>\n",
       "      <th>2018-12-28 22:00:00</th>\n",
       "      <td>0.90344</td>\n",
       "      <td>0.90061</td>\n",
       "      <td>0.90588</td>\n",
       "      <td>0.90028</td>\n",
       "      <td>0.90434</td>\n",
       "      <td>0.90135</td>\n",
       "      <td>0.90610</td>\n",
       "      <td>0.90051</td>\n",
       "      <td>237190</td>\n",
       "    </tr>\n",
       "    <tr>\n",
       "      <th>2018-12-30 22:00:00</th>\n",
       "      <td>0.90061</td>\n",
       "      <td>0.90031</td>\n",
       "      <td>0.90034</td>\n",
       "      <td>0.90023</td>\n",
       "      <td>0.90135</td>\n",
       "      <td>0.90099</td>\n",
       "      <td>0.90138</td>\n",
       "      <td>0.90057</td>\n",
       "      <td>42</td>\n",
       "    </tr>\n",
       "    <tr>\n",
       "      <th>2018-12-31 22:00:00</th>\n",
       "      <td>0.90031</td>\n",
       "      <td>0.89816</td>\n",
       "      <td>0.90201</td>\n",
       "      <td>0.89266</td>\n",
       "      <td>0.90099</td>\n",
       "      <td>0.89857</td>\n",
       "      <td>0.90225</td>\n",
       "      <td>0.89285</td>\n",
       "      <td>173186</td>\n",
       "    </tr>\n",
       "  </tbody>\n",
       "</table>\n",
       "<p>310 rows × 9 columns</p>\n",
       "</div>"
      ],
      "text/plain": [
       "                     bidopen  bidclose  bidhigh   bidlow  askopen  askclose  \\\n",
       "date                                                                          \n",
       "2018-01-02 22:00:00  0.88910   0.88703  0.89173  0.88580  0.88935   0.88742   \n",
       "2018-01-03 22:00:00  0.88703   0.88867  0.88991  0.88471  0.88742   0.88923   \n",
       "2018-01-04 22:00:00  0.88867   0.89030  0.89234  0.88798  0.88923   0.89087   \n",
       "2018-01-05 22:00:00  0.89030   0.88619  0.89102  0.88619  0.89087   0.88764   \n",
       "2018-01-07 22:00:00  0.88619   0.88652  0.88737  0.88613  0.88764   0.88756   \n",
       "...                      ...       ...      ...      ...      ...       ...   \n",
       "2018-12-26 22:00:00  0.89861   0.89844  0.90070  0.89654  0.89967   0.89880   \n",
       "2018-12-27 22:00:00  0.89844   0.90344  0.90601  0.89734  0.89880   0.90434   \n",
       "2018-12-28 22:00:00  0.90344   0.90061  0.90588  0.90028  0.90434   0.90135   \n",
       "2018-12-30 22:00:00  0.90061   0.90031  0.90034  0.90023  0.90135   0.90099   \n",
       "2018-12-31 22:00:00  0.90031   0.89816  0.90201  0.89266  0.90099   0.89857   \n",
       "\n",
       "                     askhigh   asklow  tickqty  \n",
       "date                                            \n",
       "2018-01-02 22:00:00  0.89193  0.88599   137937  \n",
       "2018-01-03 22:00:00  0.89012  0.88492   147134  \n",
       "2018-01-04 22:00:00  0.89255  0.88814   140781  \n",
       "2018-01-05 22:00:00  0.89140  0.88677   145484  \n",
       "2018-01-07 22:00:00  0.88850  0.88675      343  \n",
       "...                      ...      ...      ...  \n",
       "2018-12-26 22:00:00  0.90095  0.89682   125567  \n",
       "2018-12-27 22:00:00  0.90628  0.89797   358785  \n",
       "2018-12-28 22:00:00  0.90610  0.90051   237190  \n",
       "2018-12-30 22:00:00  0.90138  0.90057       42  \n",
       "2018-12-31 22:00:00  0.90225  0.89285   173186  \n",
       "\n",
       "[310 rows x 9 columns]"
      ]
     },
     "execution_count": 4,
     "metadata": {},
     "output_type": "execute_result"
    }
   ],
   "source": [
    "start_dt = datetime.datetime(2018, 1, 1)\n",
    "stop_dt = datetime.datetime(2018, 12, 31)\n",
    "\n",
    "data_hist = con.get_candles('EUR/GBP', period='D1', start = start_dt, stop = stop_dt)  # daily data\n",
    "data_hist"
   ]
  },
  {
   "cell_type": "code",
   "execution_count": 5,
   "metadata": {},
   "outputs": [
    {
     "data": {
      "text/html": [
       "<div>\n",
       "<style scoped>\n",
       "    .dataframe tbody tr th:only-of-type {\n",
       "        vertical-align: middle;\n",
       "    }\n",
       "\n",
       "    .dataframe tbody tr th {\n",
       "        vertical-align: top;\n",
       "    }\n",
       "\n",
       "    .dataframe thead th {\n",
       "        text-align: right;\n",
       "    }\n",
       "</style>\n",
       "<table border=\"1\" class=\"dataframe\">\n",
       "  <thead>\n",
       "    <tr style=\"text-align: right;\">\n",
       "      <th></th>\n",
       "      <th>bidopen</th>\n",
       "      <th>bidclose</th>\n",
       "      <th>bidhigh</th>\n",
       "      <th>bidlow</th>\n",
       "      <th>askopen</th>\n",
       "      <th>askclose</th>\n",
       "      <th>askhigh</th>\n",
       "      <th>asklow</th>\n",
       "      <th>tickqty</th>\n",
       "      <th>pandas_SMA_3</th>\n",
       "      <th>pandas_SMA_50</th>\n",
       "    </tr>\n",
       "    <tr>\n",
       "      <th>date</th>\n",
       "      <th></th>\n",
       "      <th></th>\n",
       "      <th></th>\n",
       "      <th></th>\n",
       "      <th></th>\n",
       "      <th></th>\n",
       "      <th></th>\n",
       "      <th></th>\n",
       "      <th></th>\n",
       "      <th></th>\n",
       "      <th></th>\n",
       "    </tr>\n",
       "  </thead>\n",
       "  <tbody>\n",
       "    <tr>\n",
       "      <th>2018-01-02 22:00:00</th>\n",
       "      <td>0.88910</td>\n",
       "      <td>0.88703</td>\n",
       "      <td>0.89173</td>\n",
       "      <td>0.88580</td>\n",
       "      <td>0.88935</td>\n",
       "      <td>0.88742</td>\n",
       "      <td>0.89193</td>\n",
       "      <td>0.88599</td>\n",
       "      <td>137937</td>\n",
       "      <td>NaN</td>\n",
       "      <td>NaN</td>\n",
       "    </tr>\n",
       "    <tr>\n",
       "      <th>2018-01-03 22:00:00</th>\n",
       "      <td>0.88703</td>\n",
       "      <td>0.88867</td>\n",
       "      <td>0.88991</td>\n",
       "      <td>0.88471</td>\n",
       "      <td>0.88742</td>\n",
       "      <td>0.88923</td>\n",
       "      <td>0.89012</td>\n",
       "      <td>0.88492</td>\n",
       "      <td>147134</td>\n",
       "      <td>NaN</td>\n",
       "      <td>NaN</td>\n",
       "    </tr>\n",
       "    <tr>\n",
       "      <th>2018-01-04 22:00:00</th>\n",
       "      <td>0.88867</td>\n",
       "      <td>0.89030</td>\n",
       "      <td>0.89234</td>\n",
       "      <td>0.88798</td>\n",
       "      <td>0.88923</td>\n",
       "      <td>0.89087</td>\n",
       "      <td>0.89255</td>\n",
       "      <td>0.88814</td>\n",
       "      <td>140781</td>\n",
       "      <td>0.889173</td>\n",
       "      <td>NaN</td>\n",
       "    </tr>\n",
       "    <tr>\n",
       "      <th>2018-01-05 22:00:00</th>\n",
       "      <td>0.89030</td>\n",
       "      <td>0.88619</td>\n",
       "      <td>0.89102</td>\n",
       "      <td>0.88619</td>\n",
       "      <td>0.89087</td>\n",
       "      <td>0.88764</td>\n",
       "      <td>0.89140</td>\n",
       "      <td>0.88677</td>\n",
       "      <td>145484</td>\n",
       "      <td>0.889247</td>\n",
       "      <td>NaN</td>\n",
       "    </tr>\n",
       "    <tr>\n",
       "      <th>2018-01-07 22:00:00</th>\n",
       "      <td>0.88619</td>\n",
       "      <td>0.88652</td>\n",
       "      <td>0.88737</td>\n",
       "      <td>0.88613</td>\n",
       "      <td>0.88764</td>\n",
       "      <td>0.88756</td>\n",
       "      <td>0.88850</td>\n",
       "      <td>0.88675</td>\n",
       "      <td>343</td>\n",
       "      <td>0.888690</td>\n",
       "      <td>NaN</td>\n",
       "    </tr>\n",
       "  </tbody>\n",
       "</table>\n",
       "</div>"
      ],
      "text/plain": [
       "                     bidopen  bidclose  bidhigh   bidlow  askopen  askclose  \\\n",
       "date                                                                          \n",
       "2018-01-02 22:00:00  0.88910   0.88703  0.89173  0.88580  0.88935   0.88742   \n",
       "2018-01-03 22:00:00  0.88703   0.88867  0.88991  0.88471  0.88742   0.88923   \n",
       "2018-01-04 22:00:00  0.88867   0.89030  0.89234  0.88798  0.88923   0.89087   \n",
       "2018-01-05 22:00:00  0.89030   0.88619  0.89102  0.88619  0.89087   0.88764   \n",
       "2018-01-07 22:00:00  0.88619   0.88652  0.88737  0.88613  0.88764   0.88756   \n",
       "\n",
       "                     askhigh   asklow  tickqty  pandas_SMA_3  pandas_SMA_50  \n",
       "date                                                                         \n",
       "2018-01-02 22:00:00  0.89193  0.88599   137937           NaN            NaN  \n",
       "2018-01-03 22:00:00  0.89012  0.88492   147134           NaN            NaN  \n",
       "2018-01-04 22:00:00  0.89255  0.88814   140781      0.889173            NaN  \n",
       "2018-01-05 22:00:00  0.89140  0.88677   145484      0.889247            NaN  \n",
       "2018-01-07 22:00:00  0.88850  0.88675      343      0.888690            NaN  "
      ]
     },
     "execution_count": 5,
     "metadata": {},
     "output_type": "execute_result"
    }
   ],
   "source": [
    "data_hist['pandas_SMA_3'] = data_hist[\"askclose\"].rolling(window=3).mean()\n",
    "data_hist['pandas_SMA_50'] = data_hist[\"askclose\"].rolling(window=50).mean()\n",
    "\n",
    "data_hist.head()"
   ]
  },
  {
   "cell_type": "code",
   "execution_count": 6,
   "metadata": {},
   "outputs": [
    {
     "data": {
      "text/plain": [
       "<function matplotlib.pyplot.show(*args, **kw)>"
      ]
     },
     "execution_count": 6,
     "metadata": {},
     "output_type": "execute_result"
    },
    {
     "data": {
      "image/png": "[encoded data removed]",
      "text/plain": [
       "<Figure size 720x432 with 1 Axes>"
      ]
     },
     "metadata": {},
     "output_type": "display_data"
    }
   ],
   "source": [
    "from pylab import plt\n",
    "from pandas.plotting import register_matplotlib_converters\n",
    "register_matplotlib_converters()\n",
    "\n",
    "plt.style.use('seaborn')\n",
    "plt.figure(figsize = (10,6))\n",
    "plt.plot(data_hist['askclose'])\n",
    "plt.plot(data_hist['pandas_SMA_3'])\n",
    "plt.plot(data_hist['pandas_SMA_50'])\n",
    "plt.show"
   ]
  },
  {
   "cell_type": "markdown",
   "metadata": {},
   "source": [
    "## Subscribe to live data"
   ]
  },
  {
   "cell_type": "code",
   "execution_count": 7,
   "metadata": {},
   "outputs": [],
   "source": [
    "#con.subscribe_market_data('EUR/CHF')"
   ]
  },
  {
   "cell_type": "code",
   "execution_count": 8,
   "metadata": {},
   "outputs": [
    {
     "data": {
      "text/plain": [
       "[]"
      ]
     },
     "execution_count": 8,
     "metadata": {},
     "output_type": "execute_result"
    }
   ],
   "source": [
    "con.get_subscribed_symbols()"
   ]
  },
  {
   "cell_type": "code",
   "execution_count": 9,
   "metadata": {},
   "outputs": [
    {
     "data": {
      "text/plain": [
       "False"
      ]
     },
     "execution_count": 9,
     "metadata": {},
     "output_type": "execute_result"
    }
   ],
   "source": [
    "con.is_subscribed('EUR/CHF')"
   ]
  },
  {
   "cell_type": "code",
   "execution_count": 10,
   "metadata": {},
   "outputs": [],
   "source": [
    "#con.get_last_price('EUR/CHF')"
   ]
  },
  {
   "cell_type": "code",
   "execution_count": 11,
   "metadata": {},
   "outputs": [
    {
     "name": "stdout",
     "output_type": "stream",
     "text": [
      "ur mom gay\n"
     ]
    }
   ],
   "source": [
    "print(\"ur mom gay\")"
   ]
  },
  {
   "cell_type": "code",
   "execution_count": 12,
   "metadata": {},
   "outputs": [
    {
     "name": "stdout",
     "output_type": "stream",
     "text": [
      "Starting Portfolio Value: 100000.0\n",
      "Final Portfolio Value: 100000.0\n",
      "<backtrader.feeds.pandafeed.PandasData object at 0x7f8da82d9cd0>\n"
     ]
    }
   ],
   "source": [
    "if __name__ == '__main__':\n",
    "    # Create a cerebro entity\n",
    "    cerebro = bt.Cerebro()\n",
    "\n",
    "    # Create a Data Feed\n",
    "    dataframe = con.get_prices('EUR/USD')\n",
    "    data = bt.feeds.PandasData(dataname = dataframe)\n",
    "    \n",
    "    # Add the Data Feed to Cerebro\n",
    "    cerebro.adddata(data)\n",
    "\n",
    "    # Set our desired cash start\n",
    "    cerebro.broker.setcash(100000.0)\n",
    "\n",
    "    # Print out the starting conditions\n",
    "    print('Starting Portfolio Value: {}'.format(cerebro.broker.getvalue()))\n",
    "\n",
    "    # Run over everything\n",
    "    cerebro.run()\n",
    "\n",
    "    # Print out the final result\n",
    "    print('Final Portfolio Value: {}'.format(cerebro.broker.getvalue()))\n",
    "    print(data)"
   ]
  },
  {
   "cell_type": "code",
   "execution_count": 13,
   "metadata": {},
   "outputs": [
    {
     "name": "stdout",
     "output_type": "stream",
     "text": [
      "unsubscribed\n"
     ]
    }
   ],
   "source": [
    "con.unsubscribe_market_data('EUR/CHF')\n",
    "print(\"unsubscribed\")"
   ]
  },
  {
   "cell_type": "code",
   "execution_count": 14,
   "metadata": {},
   "outputs": [
    {
     "name": "stdout",
     "output_type": "stream",
     "text": [
      "connection closed\n"
     ]
    }
   ],
   "source": [
    "if con.is_connected():\n",
    "    con.close()\n",
    "    print(\"connection closed\")"
   ]
  }
 ],
 "metadata": {
  "kernelspec": {
   "display_name": "Python 3",
   "language": "python",
   "name": "python3"
  },
  "language_info": {
   "codemirror_mode": {
    "name": "ipython",
    "version": 3
   },
   "file_extension": ".py",
   "mimetype": "text/x-python",
   "name": "python",
   "nbconvert_exporter": "python",
   "pygments_lexer": "ipython3",
   "version": "3.7.6"
  }
 },
 "nbformat": 4,
 "nbformat_minor": 4
}
