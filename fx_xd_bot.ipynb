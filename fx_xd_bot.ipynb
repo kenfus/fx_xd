{
 "cells": [
  {
   "cell_type": "code",
   "execution_count": 1,
   "metadata": {},
   "outputs": [],
   "source": [
    "import fxcmpy\n",
    "import pandas as pd\n",
    "import plotly.express as px\n",
    "import datetime as dt\n",
    "import numpy as np\n",
    "import backtrader"
   ]
  },
  {
   "cell_type": "code",
   "execution_count": 2,
   "metadata": {},
   "outputs": [],
   "source": [
    "con = fxcmpy.fxcmpy(config_file='fxcm.cfg', server='demo') # server = 'real' for live"
   ]
  },
  {
   "cell_type": "code",
   "execution_count": 3,
   "metadata": {},
   "outputs": [
    {
     "name": "stdout",
     "output_type": "stream",
     "text": [
      "['EUR/USD', 'USD/JPY', 'GBP/USD', 'USD/CHF', 'EUR/CHF', 'AUD/USD', 'USD/CAD', 'NZD/USD', 'EUR/GBP', 'EUR/JPY', 'GBP/JPY', 'CHF/JPY', 'GBP/CHF', 'EUR/AUD', 'EUR/CAD', 'AUD/CAD', 'AUD/JPY', 'CAD/JPY', 'NZD/JPY', 'GBP/CAD', 'GBP/NZD', 'GBP/AUD', 'AUD/NZD', 'USD/SEK', 'EUR/SEK', 'EUR/NOK', 'USD/NOK', 'USD/MXN', 'AUD/CHF', 'EUR/NZD', 'USD/ZAR', 'USD/HKD', 'ZAR/JPY', 'USD/TRY', 'EUR/TRY', 'NZD/CHF', 'CAD/CHF', 'NZD/CAD', 'TRY/JPY', 'USD/CNH', 'AUS200', 'ESP35', 'FRA40', 'GER30', 'HKG33', 'JPN225', 'NAS100', 'SPX500', 'UK100', 'US30', 'Copper', 'CHN50', 'EUSTX50', 'USDOLLAR', 'US2000', 'USOil', 'UKOil', 'SOYF', 'NGAS', 'WHEATF', 'CORNF', 'Bund', 'XAU/USD', 'XAG/USD', 'EMBasket', 'JPYBasket', 'BTC/USD', 'BCH/USD', 'ETH/USD', 'LTC/USD', 'XRP/USD', 'CryptoMajor', 'USEquities']\n"
     ]
    }
   ],
   "source": [
    "instruments = con.get_instruments()\n",
    "print(instruments)"
   ]
  },
  {
   "cell_type": "markdown",
   "metadata": {},
   "source": [
    "## Getting historical data"
   ]
  },
  {
   "cell_type": "code",
   "execution_count": 4,
   "metadata": {},
   "outputs": [
    {
     "data": {
      "text/html": [
       "<div>\n",
       "<style scoped>\n",
       "    .dataframe tbody tr th:only-of-type {\n",
       "        vertical-align: middle;\n",
       "    }\n",
       "\n",
       "    .dataframe tbody tr th {\n",
       "        vertical-align: top;\n",
       "    }\n",
       "\n",
       "    .dataframe thead th {\n",
       "        text-align: right;\n",
       "    }\n",
       "</style>\n",
       "<table border=\"1\" class=\"dataframe\">\n",
       "  <thead>\n",
       "    <tr style=\"text-align: right;\">\n",
       "      <th></th>\n",
       "      <th>bidopen</th>\n",
       "      <th>bidclose</th>\n",
       "      <th>bidhigh</th>\n",
       "      <th>bidlow</th>\n",
       "      <th>askopen</th>\n",
       "      <th>askclose</th>\n",
       "      <th>askhigh</th>\n",
       "      <th>asklow</th>\n",
       "      <th>tickqty</th>\n",
       "    </tr>\n",
       "    <tr>\n",
       "      <th>date</th>\n",
       "      <th></th>\n",
       "      <th></th>\n",
       "      <th></th>\n",
       "      <th></th>\n",
       "      <th></th>\n",
       "      <th></th>\n",
       "      <th></th>\n",
       "      <th></th>\n",
       "      <th></th>\n",
       "    </tr>\n",
       "  </thead>\n",
       "  <tbody>\n",
       "    <tr>\n",
       "      <th>2019-12-23 00:00:00</th>\n",
       "      <td>0.85182</td>\n",
       "      <td>0.85177</td>\n",
       "      <td>0.85190</td>\n",
       "      <td>0.85175</td>\n",
       "      <td>0.85207</td>\n",
       "      <td>0.85203</td>\n",
       "      <td>0.85215</td>\n",
       "      <td>0.85202</td>\n",
       "      <td>170</td>\n",
       "    </tr>\n",
       "    <tr>\n",
       "      <th>2019-12-23 00:02:00</th>\n",
       "      <td>0.85168</td>\n",
       "      <td>0.85176</td>\n",
       "      <td>0.85176</td>\n",
       "      <td>0.85166</td>\n",
       "      <td>0.85194</td>\n",
       "      <td>0.85203</td>\n",
       "      <td>0.85203</td>\n",
       "      <td>0.85193</td>\n",
       "      <td>92</td>\n",
       "    </tr>\n",
       "    <tr>\n",
       "      <th>2019-12-23 00:03:00</th>\n",
       "      <td>0.85176</td>\n",
       "      <td>0.85168</td>\n",
       "      <td>0.85176</td>\n",
       "      <td>0.85168</td>\n",
       "      <td>0.85203</td>\n",
       "      <td>0.85194</td>\n",
       "      <td>0.85202</td>\n",
       "      <td>0.85193</td>\n",
       "      <td>35</td>\n",
       "    </tr>\n",
       "    <tr>\n",
       "      <th>2019-12-23 00:04:00</th>\n",
       "      <td>0.85168</td>\n",
       "      <td>0.85144</td>\n",
       "      <td>0.85177</td>\n",
       "      <td>0.85144</td>\n",
       "      <td>0.85194</td>\n",
       "      <td>0.85171</td>\n",
       "      <td>0.85202</td>\n",
       "      <td>0.85170</td>\n",
       "      <td>136</td>\n",
       "    </tr>\n",
       "    <tr>\n",
       "      <th>2019-12-23 00:05:00</th>\n",
       "      <td>0.85144</td>\n",
       "      <td>0.85143</td>\n",
       "      <td>0.85149</td>\n",
       "      <td>0.85138</td>\n",
       "      <td>0.85171</td>\n",
       "      <td>0.85169</td>\n",
       "      <td>0.85175</td>\n",
       "      <td>0.85164</td>\n",
       "      <td>99</td>\n",
       "    </tr>\n",
       "    <tr>\n",
       "      <th>...</th>\n",
       "      <td>...</td>\n",
       "      <td>...</td>\n",
       "      <td>...</td>\n",
       "      <td>...</td>\n",
       "      <td>...</td>\n",
       "      <td>...</td>\n",
       "      <td>...</td>\n",
       "      <td>...</td>\n",
       "      <td>...</td>\n",
       "    </tr>\n",
       "    <tr>\n",
       "      <th>2019-12-23 23:56:00</th>\n",
       "      <td>0.85691</td>\n",
       "      <td>0.85693</td>\n",
       "      <td>0.85694</td>\n",
       "      <td>0.85684</td>\n",
       "      <td>0.85717</td>\n",
       "      <td>0.85718</td>\n",
       "      <td>0.85718</td>\n",
       "      <td>0.85709</td>\n",
       "      <td>57</td>\n",
       "    </tr>\n",
       "    <tr>\n",
       "      <th>2019-12-23 23:57:00</th>\n",
       "      <td>0.85693</td>\n",
       "      <td>0.85695</td>\n",
       "      <td>0.85702</td>\n",
       "      <td>0.85691</td>\n",
       "      <td>0.85718</td>\n",
       "      <td>0.85719</td>\n",
       "      <td>0.85725</td>\n",
       "      <td>0.85715</td>\n",
       "      <td>77</td>\n",
       "    </tr>\n",
       "    <tr>\n",
       "      <th>2019-12-23 23:58:00</th>\n",
       "      <td>0.85695</td>\n",
       "      <td>0.85689</td>\n",
       "      <td>0.85696</td>\n",
       "      <td>0.85689</td>\n",
       "      <td>0.85719</td>\n",
       "      <td>0.85713</td>\n",
       "      <td>0.85719</td>\n",
       "      <td>0.85713</td>\n",
       "      <td>30</td>\n",
       "    </tr>\n",
       "    <tr>\n",
       "      <th>2019-12-23 23:59:00</th>\n",
       "      <td>0.85689</td>\n",
       "      <td>0.85687</td>\n",
       "      <td>0.85692</td>\n",
       "      <td>0.85685</td>\n",
       "      <td>0.85713</td>\n",
       "      <td>0.85708</td>\n",
       "      <td>0.85715</td>\n",
       "      <td>0.85708</td>\n",
       "      <td>54</td>\n",
       "    </tr>\n",
       "    <tr>\n",
       "      <th>2019-12-24 00:00:00</th>\n",
       "      <td>0.85687</td>\n",
       "      <td>0.85687</td>\n",
       "      <td>0.85691</td>\n",
       "      <td>0.85684</td>\n",
       "      <td>0.85708</td>\n",
       "      <td>0.85707</td>\n",
       "      <td>0.85712</td>\n",
       "      <td>0.85706</td>\n",
       "      <td>75</td>\n",
       "    </tr>\n",
       "  </tbody>\n",
       "</table>\n",
       "<p>1432 rows × 9 columns</p>\n",
       "</div>"
      ],
      "text/plain": [
       "                     bidopen  bidclose  bidhigh   bidlow  askopen  askclose  \\\n",
       "date                                                                          \n",
       "2019-12-23 00:00:00  0.85182   0.85177  0.85190  0.85175  0.85207   0.85203   \n",
       "2019-12-23 00:02:00  0.85168   0.85176  0.85176  0.85166  0.85194   0.85203   \n",
       "2019-12-23 00:03:00  0.85176   0.85168  0.85176  0.85168  0.85203   0.85194   \n",
       "2019-12-23 00:04:00  0.85168   0.85144  0.85177  0.85144  0.85194   0.85171   \n",
       "2019-12-23 00:05:00  0.85144   0.85143  0.85149  0.85138  0.85171   0.85169   \n",
       "...                      ...       ...      ...      ...      ...       ...   \n",
       "2019-12-23 23:56:00  0.85691   0.85693  0.85694  0.85684  0.85717   0.85718   \n",
       "2019-12-23 23:57:00  0.85693   0.85695  0.85702  0.85691  0.85718   0.85719   \n",
       "2019-12-23 23:58:00  0.85695   0.85689  0.85696  0.85689  0.85719   0.85713   \n",
       "2019-12-23 23:59:00  0.85689   0.85687  0.85692  0.85685  0.85713   0.85708   \n",
       "2019-12-24 00:00:00  0.85687   0.85687  0.85691  0.85684  0.85708   0.85707   \n",
       "\n",
       "                     askhigh   asklow  tickqty  \n",
       "date                                            \n",
       "2019-12-23 00:00:00  0.85215  0.85202      170  \n",
       "2019-12-23 00:02:00  0.85203  0.85193       92  \n",
       "2019-12-23 00:03:00  0.85202  0.85193       35  \n",
       "2019-12-23 00:04:00  0.85202  0.85170      136  \n",
       "2019-12-23 00:05:00  0.85175  0.85164       99  \n",
       "...                      ...      ...      ...  \n",
       "2019-12-23 23:56:00  0.85718  0.85709       57  \n",
       "2019-12-23 23:57:00  0.85725  0.85715       77  \n",
       "2019-12-23 23:58:00  0.85719  0.85713       30  \n",
       "2019-12-23 23:59:00  0.85715  0.85708       54  \n",
       "2019-12-24 00:00:00  0.85712  0.85706       75  \n",
       "\n",
       "[1432 rows x 9 columns]"
      ]
     },
     "execution_count": 4,
     "metadata": {},
     "output_type": "execute_result"
    }
   ],
   "source": [
    "start_dt = dt.datetime(2019, 12, 23)\n",
    "stop_dt = dt.datetime(2019, 12, 24)\n",
    "\n",
    "data = con.get_candles('EUR/GBP', period='m1', start = start_dt, stop = stop_dt)  # daily data\n",
    "data"
   ]
  },
  {
   "cell_type": "code",
   "execution_count": 5,
   "metadata": {},
   "outputs": [
    {
     "data": {
      "text/html": [
       "<div>\n",
       "<style scoped>\n",
       "    .dataframe tbody tr th:only-of-type {\n",
       "        vertical-align: middle;\n",
       "    }\n",
       "\n",
       "    .dataframe tbody tr th {\n",
       "        vertical-align: top;\n",
       "    }\n",
       "\n",
       "    .dataframe thead th {\n",
       "        text-align: right;\n",
       "    }\n",
       "</style>\n",
       "<table border=\"1\" class=\"dataframe\">\n",
       "  <thead>\n",
       "    <tr style=\"text-align: right;\">\n",
       "      <th></th>\n",
       "      <th>bidopen</th>\n",
       "      <th>bidclose</th>\n",
       "      <th>bidhigh</th>\n",
       "      <th>bidlow</th>\n",
       "      <th>askopen</th>\n",
       "      <th>askclose</th>\n",
       "      <th>askhigh</th>\n",
       "      <th>asklow</th>\n",
       "      <th>tickqty</th>\n",
       "      <th>pandas_SMA_3</th>\n",
       "      <th>pandas_SMA_50</th>\n",
       "    </tr>\n",
       "    <tr>\n",
       "      <th>date</th>\n",
       "      <th></th>\n",
       "      <th></th>\n",
       "      <th></th>\n",
       "      <th></th>\n",
       "      <th></th>\n",
       "      <th></th>\n",
       "      <th></th>\n",
       "      <th></th>\n",
       "      <th></th>\n",
       "      <th></th>\n",
       "      <th></th>\n",
       "    </tr>\n",
       "  </thead>\n",
       "  <tbody>\n",
       "    <tr>\n",
       "      <th>2019-12-23 00:00:00</th>\n",
       "      <td>0.85182</td>\n",
       "      <td>0.85177</td>\n",
       "      <td>0.85190</td>\n",
       "      <td>0.85175</td>\n",
       "      <td>0.85207</td>\n",
       "      <td>0.85203</td>\n",
       "      <td>0.85215</td>\n",
       "      <td>0.85202</td>\n",
       "      <td>170</td>\n",
       "      <td>NaN</td>\n",
       "      <td>NaN</td>\n",
       "    </tr>\n",
       "    <tr>\n",
       "      <th>2019-12-23 00:02:00</th>\n",
       "      <td>0.85168</td>\n",
       "      <td>0.85176</td>\n",
       "      <td>0.85176</td>\n",
       "      <td>0.85166</td>\n",
       "      <td>0.85194</td>\n",
       "      <td>0.85203</td>\n",
       "      <td>0.85203</td>\n",
       "      <td>0.85193</td>\n",
       "      <td>92</td>\n",
       "      <td>NaN</td>\n",
       "      <td>NaN</td>\n",
       "    </tr>\n",
       "    <tr>\n",
       "      <th>2019-12-23 00:03:00</th>\n",
       "      <td>0.85176</td>\n",
       "      <td>0.85168</td>\n",
       "      <td>0.85176</td>\n",
       "      <td>0.85168</td>\n",
       "      <td>0.85203</td>\n",
       "      <td>0.85194</td>\n",
       "      <td>0.85202</td>\n",
       "      <td>0.85193</td>\n",
       "      <td>35</td>\n",
       "      <td>0.852000</td>\n",
       "      <td>NaN</td>\n",
       "    </tr>\n",
       "    <tr>\n",
       "      <th>2019-12-23 00:04:00</th>\n",
       "      <td>0.85168</td>\n",
       "      <td>0.85144</td>\n",
       "      <td>0.85177</td>\n",
       "      <td>0.85144</td>\n",
       "      <td>0.85194</td>\n",
       "      <td>0.85171</td>\n",
       "      <td>0.85202</td>\n",
       "      <td>0.85170</td>\n",
       "      <td>136</td>\n",
       "      <td>0.851893</td>\n",
       "      <td>NaN</td>\n",
       "    </tr>\n",
       "    <tr>\n",
       "      <th>2019-12-23 00:05:00</th>\n",
       "      <td>0.85144</td>\n",
       "      <td>0.85143</td>\n",
       "      <td>0.85149</td>\n",
       "      <td>0.85138</td>\n",
       "      <td>0.85171</td>\n",
       "      <td>0.85169</td>\n",
       "      <td>0.85175</td>\n",
       "      <td>0.85164</td>\n",
       "      <td>99</td>\n",
       "      <td>0.851780</td>\n",
       "      <td>NaN</td>\n",
       "    </tr>\n",
       "  </tbody>\n",
       "</table>\n",
       "</div>"
      ],
      "text/plain": [
       "                     bidopen  bidclose  bidhigh   bidlow  askopen  askclose  \\\n",
       "date                                                                          \n",
       "2019-12-23 00:00:00  0.85182   0.85177  0.85190  0.85175  0.85207   0.85203   \n",
       "2019-12-23 00:02:00  0.85168   0.85176  0.85176  0.85166  0.85194   0.85203   \n",
       "2019-12-23 00:03:00  0.85176   0.85168  0.85176  0.85168  0.85203   0.85194   \n",
       "2019-12-23 00:04:00  0.85168   0.85144  0.85177  0.85144  0.85194   0.85171   \n",
       "2019-12-23 00:05:00  0.85144   0.85143  0.85149  0.85138  0.85171   0.85169   \n",
       "\n",
       "                     askhigh   asklow  tickqty  pandas_SMA_3  pandas_SMA_50  \n",
       "date                                                                         \n",
       "2019-12-23 00:00:00  0.85215  0.85202      170           NaN            NaN  \n",
       "2019-12-23 00:02:00  0.85203  0.85193       92           NaN            NaN  \n",
       "2019-12-23 00:03:00  0.85202  0.85193       35      0.852000            NaN  \n",
       "2019-12-23 00:04:00  0.85202  0.85170      136      0.851893            NaN  \n",
       "2019-12-23 00:05:00  0.85175  0.85164       99      0.851780            NaN  "
      ]
     },
     "execution_count": 5,
     "metadata": {},
     "output_type": "execute_result"
    }
   ],
   "source": [
    "data['pandas_SMA_3'] = data[\"askclose\"].rolling(window=3).mean()\n",
    "data['pandas_SMA_50'] = data[\"askclose\"].rolling(window=50).mean()\n",
    "\n",
    "data.head()"
   ]
  },
  {
   "cell_type": "code",
   "execution_count": 6,
   "metadata": {},
   "outputs": [
    {
     "data": {
      "text/plain": [
       "<function matplotlib.pyplot.show(*args, **kw)>"
      ]
     },
     "execution_count": 6,
     "metadata": {},
     "output_type": "execute_result"
    },
    {
     "data": {
      "image/png": "[encoded data removed]",
      "text/plain": [
       "<Figure size 720x432 with 1 Axes>"
      ]
     },
     "metadata": {},
     "output_type": "display_data"
    }
   ],
   "source": [
    "from pylab import plt\n",
    "from pandas.plotting import register_matplotlib_converters\n",
    "register_matplotlib_converters()\n",
    "\n",
    "plt.style.use('seaborn')\n",
    "plt.figure(figsize = (10,6))\n",
    "plt.plot(data['askclose'])\n",
    "plt.plot(data['pandas_SMA_3'])\n",
    "plt.plot(data['pandas_SMA_50'])\n",
    "plt.show"
   ]
  },
  {
   "cell_type": "markdown",
   "metadata": {},
   "source": [
    "## Subscribe to live data"
   ]
  },
  {
   "cell_type": "code",
   "execution_count": 7,
   "metadata": {},
   "outputs": [],
   "source": [
    "con.subscribe_market_data('EUR/CHF')"
   ]
  },
  {
   "cell_type": "code",
   "execution_count": 8,
   "metadata": {},
   "outputs": [
    {
     "data": {
      "text/plain": [
       "['EUR/CHF']"
      ]
     },
     "execution_count": 8,
     "metadata": {},
     "output_type": "execute_result"
    }
   ],
   "source": [
    "con.get_subscribed_symbols()"
   ]
  },
  {
   "cell_type": "code",
   "execution_count": 9,
   "metadata": {},
   "outputs": [
    {
     "data": {
      "text/plain": [
       "True"
      ]
     },
     "execution_count": 9,
     "metadata": {},
     "output_type": "execute_result"
    }
   ],
   "source": [
    "con.is_subscribed('EUR/CHF')"
   ]
  },
  {
   "cell_type": "code",
   "execution_count": 10,
   "metadata": {},
   "outputs": [
    {
     "data": {
      "text/plain": [
       "Bid     1.06873\n",
       "Ask     1.06893\n",
       "High    1.07254\n",
       "Low     1.06804\n",
       "Name: 2020-01-30 16:17:50.464000, dtype: float64"
      ]
     },
     "execution_count": 10,
     "metadata": {},
     "output_type": "execute_result"
    }
   ],
   "source": [
    "con.get_last_price('EUR/CHF')"
   ]
  },
  {
   "cell_type": "code",
   "execution_count": 11,
   "metadata": {},
   "outputs": [
    {
     "name": "stdout",
     "output_type": "stream",
     "text": [
      "unsubcribed\n"
     ]
    }
   ],
   "source": [
    "con.unsubscribe_market_data('EUR/CHF')\n",
    "print(\"unsubcribed\")"
   ]
  }
 ],
 "metadata": {
  "kernelspec": {
   "display_name": "Python 3",
   "language": "python",
   "name": "python3"
  },
  "language_info": {
   "codemirror_mode": {
    "name": "ipython",
    "version": 3
   },
   "file_extension": ".py",
   "mimetype": "text/x-python",
   "name": "python",
   "nbconvert_exporter": "python",
   "pygments_lexer": "ipython3",
   "version": "3.8.1"
  }
 },
 "nbformat": 4,
 "nbformat_minor": 4
}
