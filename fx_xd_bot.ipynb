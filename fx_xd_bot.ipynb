{
 "cells": [
  {
   "cell_type": "code",
   "execution_count": 1,
   "metadata": {},
   "outputs": [],
   "source": [
    "import fxcmpy\n",
    "import pandas as pd\n",
    "import plotly.express as px\n",
    "import datetime as dt\n",
    "import numpy as np\n",
    "import backtrader"
   ]
  },
  {
   "cell_type": "code",
   "execution_count": 2,
   "metadata": {},
   "outputs": [],
   "source": [
    "con = fxcmpy.fxcmpy(config_file='fxcm.cfg', server='demo') # server = 'real' for live"
   ]
  },
  {
   "cell_type": "code",
   "execution_count": 3,
   "metadata": {},
   "outputs": [
    {
     "name": "stdout",
     "output_type": "stream",
     "text": [
      "['EUR/USD', 'USD/JPY', 'GBP/USD', 'USD/CHF', 'EUR/CHF', 'AUD/USD', 'USD/CAD', 'NZD/USD', 'EUR/GBP', 'EUR/JPY', 'GBP/JPY', 'CHF/JPY', 'GBP/CHF', 'EUR/AUD', 'EUR/CAD', 'AUD/CAD', 'AUD/JPY', 'CAD/JPY', 'NZD/JPY', 'GBP/CAD', 'GBP/NZD', 'GBP/AUD', 'AUD/NZD', 'USD/SEK', 'EUR/SEK', 'EUR/NOK', 'USD/NOK', 'USD/MXN', 'AUD/CHF', 'EUR/NZD', 'USD/ZAR', 'USD/HKD', 'ZAR/JPY', 'USD/TRY', 'EUR/TRY', 'NZD/CHF', 'CAD/CHF', 'NZD/CAD', 'TRY/JPY', 'USD/CNH', 'AUS200', 'ESP35', 'FRA40', 'GER30', 'HKG33', 'JPN225', 'NAS100', 'SPX500', 'UK100', 'US30', 'Copper', 'CHN50', 'EUSTX50', 'USDOLLAR', 'US2000', 'USOil', 'UKOil', 'SOYF', 'NGAS', 'WHEATF', 'CORNF', 'Bund', 'XAU/USD', 'XAG/USD', 'EMBasket', 'JPYBasket', 'BTC/USD', 'BCH/USD', 'ETH/USD', 'LTC/USD', 'XRP/USD', 'CryptoMajor', 'USEquities']\n"
     ]
    }
   ],
   "source": [
    "instruments = con.get_instruments()\n",
    "print(instruments)"
   ]
  },
  {
   "cell_type": "markdown",
   "metadata": {},
   "source": [
    "## Getting historical data"
   ]
  },
  {
   "cell_type": "code",
   "execution_count": 14,
   "metadata": {},
   "outputs": [
    {
     "data": {
      "text/html": [
       "<div>\n",
       "<style scoped>\n",
       "    .dataframe tbody tr th:only-of-type {\n",
       "        vertical-align: middle;\n",
       "    }\n",
       "\n",
       "    .dataframe tbody tr th {\n",
       "        vertical-align: top;\n",
       "    }\n",
       "\n",
       "    .dataframe thead th {\n",
       "        text-align: right;\n",
       "    }\n",
       "</style>\n",
       "<table border=\"1\" class=\"dataframe\">\n",
       "  <thead>\n",
       "    <tr style=\"text-align: right;\">\n",
       "      <th></th>\n",
       "      <th>bidopen</th>\n",
       "      <th>bidclose</th>\n",
       "      <th>bidhigh</th>\n",
       "      <th>bidlow</th>\n",
       "      <th>askopen</th>\n",
       "      <th>askclose</th>\n",
       "      <th>askhigh</th>\n",
       "      <th>asklow</th>\n",
       "      <th>tickqty</th>\n",
       "    </tr>\n",
       "    <tr>\n",
       "      <th>date</th>\n",
       "      <th></th>\n",
       "      <th></th>\n",
       "      <th></th>\n",
       "      <th></th>\n",
       "      <th></th>\n",
       "      <th></th>\n",
       "      <th></th>\n",
       "      <th></th>\n",
       "      <th></th>\n",
       "    </tr>\n",
       "  </thead>\n",
       "  <tbody>\n",
       "    <tr>\n",
       "      <th>2018-01-02 22:00:00</th>\n",
       "      <td>0.88910</td>\n",
       "      <td>0.88703</td>\n",
       "      <td>0.89173</td>\n",
       "      <td>0.88580</td>\n",
       "      <td>0.88935</td>\n",
       "      <td>0.88742</td>\n",
       "      <td>0.89193</td>\n",
       "      <td>0.88599</td>\n",
       "      <td>137937</td>\n",
       "    </tr>\n",
       "    <tr>\n",
       "      <th>2018-01-03 22:00:00</th>\n",
       "      <td>0.88703</td>\n",
       "      <td>0.88867</td>\n",
       "      <td>0.88991</td>\n",
       "      <td>0.88471</td>\n",
       "      <td>0.88742</td>\n",
       "      <td>0.88923</td>\n",
       "      <td>0.89012</td>\n",
       "      <td>0.88492</td>\n",
       "      <td>147134</td>\n",
       "    </tr>\n",
       "    <tr>\n",
       "      <th>2018-01-04 22:00:00</th>\n",
       "      <td>0.88867</td>\n",
       "      <td>0.89030</td>\n",
       "      <td>0.89234</td>\n",
       "      <td>0.88798</td>\n",
       "      <td>0.88923</td>\n",
       "      <td>0.89087</td>\n",
       "      <td>0.89255</td>\n",
       "      <td>0.88814</td>\n",
       "      <td>140781</td>\n",
       "    </tr>\n",
       "    <tr>\n",
       "      <th>2018-01-05 22:00:00</th>\n",
       "      <td>0.89030</td>\n",
       "      <td>0.88619</td>\n",
       "      <td>0.89102</td>\n",
       "      <td>0.88619</td>\n",
       "      <td>0.89087</td>\n",
       "      <td>0.88764</td>\n",
       "      <td>0.89140</td>\n",
       "      <td>0.88677</td>\n",
       "      <td>145484</td>\n",
       "    </tr>\n",
       "    <tr>\n",
       "      <th>2018-01-07 22:00:00</th>\n",
       "      <td>0.88619</td>\n",
       "      <td>0.88652</td>\n",
       "      <td>0.88737</td>\n",
       "      <td>0.88613</td>\n",
       "      <td>0.88764</td>\n",
       "      <td>0.88756</td>\n",
       "      <td>0.88850</td>\n",
       "      <td>0.88675</td>\n",
       "      <td>343</td>\n",
       "    </tr>\n",
       "    <tr>\n",
       "      <th>...</th>\n",
       "      <td>...</td>\n",
       "      <td>...</td>\n",
       "      <td>...</td>\n",
       "      <td>...</td>\n",
       "      <td>...</td>\n",
       "      <td>...</td>\n",
       "      <td>...</td>\n",
       "      <td>...</td>\n",
       "      <td>...</td>\n",
       "    </tr>\n",
       "    <tr>\n",
       "      <th>2020-01-25 03:00:00</th>\n",
       "      <td>0.84117</td>\n",
       "      <td>0.84306</td>\n",
       "      <td>0.84433</td>\n",
       "      <td>0.83850</td>\n",
       "      <td>0.84237</td>\n",
       "      <td>0.84373</td>\n",
       "      <td>0.84453</td>\n",
       "      <td>0.83906</td>\n",
       "      <td>183648</td>\n",
       "    </tr>\n",
       "    <tr>\n",
       "      <th>2020-01-26 22:00:00</th>\n",
       "      <td>0.84274</td>\n",
       "      <td>0.84311</td>\n",
       "      <td>0.84349</td>\n",
       "      <td>0.84223</td>\n",
       "      <td>0.84411</td>\n",
       "      <td>0.84393</td>\n",
       "      <td>0.84486</td>\n",
       "      <td>0.84313</td>\n",
       "      <td>237</td>\n",
       "    </tr>\n",
       "    <tr>\n",
       "      <th>2020-01-27 22:00:00</th>\n",
       "      <td>0.84311</td>\n",
       "      <td>0.84366</td>\n",
       "      <td>0.84483</td>\n",
       "      <td>0.84076</td>\n",
       "      <td>0.84393</td>\n",
       "      <td>0.84395</td>\n",
       "      <td>0.84504</td>\n",
       "      <td>0.84096</td>\n",
       "      <td>141602</td>\n",
       "    </tr>\n",
       "    <tr>\n",
       "      <th>2020-01-28 22:00:00</th>\n",
       "      <td>0.84366</td>\n",
       "      <td>0.84570</td>\n",
       "      <td>0.84778</td>\n",
       "      <td>0.84319</td>\n",
       "      <td>0.84395</td>\n",
       "      <td>0.84617</td>\n",
       "      <td>0.84796</td>\n",
       "      <td>0.84362</td>\n",
       "      <td>124356</td>\n",
       "    </tr>\n",
       "    <tr>\n",
       "      <th>2020-01-29 22:00:00</th>\n",
       "      <td>0.84570</td>\n",
       "      <td>0.84547</td>\n",
       "      <td>0.84670</td>\n",
       "      <td>0.84462</td>\n",
       "      <td>0.84617</td>\n",
       "      <td>0.84602</td>\n",
       "      <td>0.84690</td>\n",
       "      <td>0.84479</td>\n",
       "      <td>107876</td>\n",
       "    </tr>\n",
       "  </tbody>\n",
       "</table>\n",
       "<p>643 rows × 9 columns</p>\n",
       "</div>"
      ],
      "text/plain": [
       "                     bidopen  bidclose  bidhigh   bidlow  askopen  askclose  \\\n",
       "date                                                                          \n",
       "2018-01-02 22:00:00  0.88910   0.88703  0.89173  0.88580  0.88935   0.88742   \n",
       "2018-01-03 22:00:00  0.88703   0.88867  0.88991  0.88471  0.88742   0.88923   \n",
       "2018-01-04 22:00:00  0.88867   0.89030  0.89234  0.88798  0.88923   0.89087   \n",
       "2018-01-05 22:00:00  0.89030   0.88619  0.89102  0.88619  0.89087   0.88764   \n",
       "2018-01-07 22:00:00  0.88619   0.88652  0.88737  0.88613  0.88764   0.88756   \n",
       "...                      ...       ...      ...      ...      ...       ...   \n",
       "2020-01-25 03:00:00  0.84117   0.84306  0.84433  0.83850  0.84237   0.84373   \n",
       "2020-01-26 22:00:00  0.84274   0.84311  0.84349  0.84223  0.84411   0.84393   \n",
       "2020-01-27 22:00:00  0.84311   0.84366  0.84483  0.84076  0.84393   0.84395   \n",
       "2020-01-28 22:00:00  0.84366   0.84570  0.84778  0.84319  0.84395   0.84617   \n",
       "2020-01-29 22:00:00  0.84570   0.84547  0.84670  0.84462  0.84617   0.84602   \n",
       "\n",
       "                     askhigh   asklow  tickqty  \n",
       "date                                            \n",
       "2018-01-02 22:00:00  0.89193  0.88599   137937  \n",
       "2018-01-03 22:00:00  0.89012  0.88492   147134  \n",
       "2018-01-04 22:00:00  0.89255  0.88814   140781  \n",
       "2018-01-05 22:00:00  0.89140  0.88677   145484  \n",
       "2018-01-07 22:00:00  0.88850  0.88675      343  \n",
       "...                      ...      ...      ...  \n",
       "2020-01-25 03:00:00  0.84453  0.83906   183648  \n",
       "2020-01-26 22:00:00  0.84486  0.84313      237  \n",
       "2020-01-27 22:00:00  0.84504  0.84096   141602  \n",
       "2020-01-28 22:00:00  0.84796  0.84362   124356  \n",
       "2020-01-29 22:00:00  0.84690  0.84479   107876  \n",
       "\n",
       "[643 rows x 9 columns]"
      ]
     },
     "execution_count": 14,
     "metadata": {},
     "output_type": "execute_result"
    }
   ],
   "source": [
    "start_dt = dt.datetime(2018, 1, 1)\n",
    "stop_dt = dt.datetime(2020, 1, 29)\n",
    "\n",
    "data = con.get_candles('EUR/GBP', period='H1', start = start_dt, stop = stop_dt)  # daily data\n",
    "data"
   ]
  },
  {
   "cell_type": "code",
   "execution_count": 15,
   "metadata": {},
   "outputs": [
    {
     "data": {
      "text/html": [
       "<div>\n",
       "<style scoped>\n",
       "    .dataframe tbody tr th:only-of-type {\n",
       "        vertical-align: middle;\n",
       "    }\n",
       "\n",
       "    .dataframe tbody tr th {\n",
       "        vertical-align: top;\n",
       "    }\n",
       "\n",
       "    .dataframe thead th {\n",
       "        text-align: right;\n",
       "    }\n",
       "</style>\n",
       "<table border=\"1\" class=\"dataframe\">\n",
       "  <thead>\n",
       "    <tr style=\"text-align: right;\">\n",
       "      <th></th>\n",
       "      <th>bidopen</th>\n",
       "      <th>bidclose</th>\n",
       "      <th>bidhigh</th>\n",
       "      <th>bidlow</th>\n",
       "      <th>askopen</th>\n",
       "      <th>askclose</th>\n",
       "      <th>askhigh</th>\n",
       "      <th>asklow</th>\n",
       "      <th>tickqty</th>\n",
       "      <th>pandas_SMA_3</th>\n",
       "      <th>pandas_SMA_50</th>\n",
       "    </tr>\n",
       "    <tr>\n",
       "      <th>date</th>\n",
       "      <th></th>\n",
       "      <th></th>\n",
       "      <th></th>\n",
       "      <th></th>\n",
       "      <th></th>\n",
       "      <th></th>\n",
       "      <th></th>\n",
       "      <th></th>\n",
       "      <th></th>\n",
       "      <th></th>\n",
       "      <th></th>\n",
       "    </tr>\n",
       "  </thead>\n",
       "  <tbody>\n",
       "    <tr>\n",
       "      <th>2018-01-02 22:00:00</th>\n",
       "      <td>0.88910</td>\n",
       "      <td>0.88703</td>\n",
       "      <td>0.89173</td>\n",
       "      <td>0.88580</td>\n",
       "      <td>0.88935</td>\n",
       "      <td>0.88742</td>\n",
       "      <td>0.89193</td>\n",
       "      <td>0.88599</td>\n",
       "      <td>137937</td>\n",
       "      <td>NaN</td>\n",
       "      <td>NaN</td>\n",
       "    </tr>\n",
       "    <tr>\n",
       "      <th>2018-01-03 22:00:00</th>\n",
       "      <td>0.88703</td>\n",
       "      <td>0.88867</td>\n",
       "      <td>0.88991</td>\n",
       "      <td>0.88471</td>\n",
       "      <td>0.88742</td>\n",
       "      <td>0.88923</td>\n",
       "      <td>0.89012</td>\n",
       "      <td>0.88492</td>\n",
       "      <td>147134</td>\n",
       "      <td>NaN</td>\n",
       "      <td>NaN</td>\n",
       "    </tr>\n",
       "    <tr>\n",
       "      <th>2018-01-04 22:00:00</th>\n",
       "      <td>0.88867</td>\n",
       "      <td>0.89030</td>\n",
       "      <td>0.89234</td>\n",
       "      <td>0.88798</td>\n",
       "      <td>0.88923</td>\n",
       "      <td>0.89087</td>\n",
       "      <td>0.89255</td>\n",
       "      <td>0.88814</td>\n",
       "      <td>140781</td>\n",
       "      <td>0.889173</td>\n",
       "      <td>NaN</td>\n",
       "    </tr>\n",
       "    <tr>\n",
       "      <th>2018-01-05 22:00:00</th>\n",
       "      <td>0.89030</td>\n",
       "      <td>0.88619</td>\n",
       "      <td>0.89102</td>\n",
       "      <td>0.88619</td>\n",
       "      <td>0.89087</td>\n",
       "      <td>0.88764</td>\n",
       "      <td>0.89140</td>\n",
       "      <td>0.88677</td>\n",
       "      <td>145484</td>\n",
       "      <td>0.889247</td>\n",
       "      <td>NaN</td>\n",
       "    </tr>\n",
       "    <tr>\n",
       "      <th>2018-01-07 22:00:00</th>\n",
       "      <td>0.88619</td>\n",
       "      <td>0.88652</td>\n",
       "      <td>0.88737</td>\n",
       "      <td>0.88613</td>\n",
       "      <td>0.88764</td>\n",
       "      <td>0.88756</td>\n",
       "      <td>0.88850</td>\n",
       "      <td>0.88675</td>\n",
       "      <td>343</td>\n",
       "      <td>0.888690</td>\n",
       "      <td>NaN</td>\n",
       "    </tr>\n",
       "  </tbody>\n",
       "</table>\n",
       "</div>"
      ],
      "text/plain": [
       "                     bidopen  bidclose  bidhigh   bidlow  askopen  askclose  \\\n",
       "date                                                                          \n",
       "2018-01-02 22:00:00  0.88910   0.88703  0.89173  0.88580  0.88935   0.88742   \n",
       "2018-01-03 22:00:00  0.88703   0.88867  0.88991  0.88471  0.88742   0.88923   \n",
       "2018-01-04 22:00:00  0.88867   0.89030  0.89234  0.88798  0.88923   0.89087   \n",
       "2018-01-05 22:00:00  0.89030   0.88619  0.89102  0.88619  0.89087   0.88764   \n",
       "2018-01-07 22:00:00  0.88619   0.88652  0.88737  0.88613  0.88764   0.88756   \n",
       "\n",
       "                     askhigh   asklow  tickqty  pandas_SMA_3  pandas_SMA_50  \n",
       "date                                                                         \n",
       "2018-01-02 22:00:00  0.89193  0.88599   137937           NaN            NaN  \n",
       "2018-01-03 22:00:00  0.89012  0.88492   147134           NaN            NaN  \n",
       "2018-01-04 22:00:00  0.89255  0.88814   140781      0.889173            NaN  \n",
       "2018-01-05 22:00:00  0.89140  0.88677   145484      0.889247            NaN  \n",
       "2018-01-07 22:00:00  0.88850  0.88675      343      0.888690            NaN  "
      ]
     },
     "execution_count": 15,
     "metadata": {},
     "output_type": "execute_result"
    }
   ],
   "source": [
    "data['pandas_SMA_3'] = data[\"askclose\"].rolling(window=3).mean()\n",
    "data['pandas_SMA_50'] = data[\"askclose\"].rolling(window=50).mean()\n",
    "\n",
    "data.head()"
   ]
  },
  {
   "cell_type": "code",
   "execution_count": 16,
   "metadata": {},
   "outputs": [
    {
     "data": {
      "text/plain": [
       "<function matplotlib.pyplot.show(*args, **kw)>"
      ]
     },
     "execution_count": 16,
     "metadata": {},
     "output_type": "execute_result"
    },
    {
     "data": {
      "image/png": "[encoded data removed]",
      "text/plain": [
       "<Figure size 720x432 with 1 Axes>"
      ]
     },
     "metadata": {},
     "output_type": "display_data"
    }
   ],
   "source": [
    "from pylab import plt\n",
    "from pandas.plotting import register_matplotlib_converters\n",
    "register_matplotlib_converters()\n",
    "\n",
    "plt.style.use('seaborn')\n",
    "plt.figure(figsize = (10,6))\n",
    "plt.plot(data['askclose'])\n",
    "plt.plot(data['pandas_SMA_3'])\n",
    "plt.plot(data['pandas_SMA_50'])\n",
    "plt.show"
   ]
  },
  {
   "cell_type": "markdown",
   "metadata": {},
   "source": [
    "## Subscribe to live data"
   ]
  },
  {
   "cell_type": "code",
   "execution_count": 17,
   "metadata": {},
   "outputs": [],
   "source": [
    "con.subscribe_market_data('EUR/CHF')"
   ]
  },
  {
   "cell_type": "code",
   "execution_count": 18,
   "metadata": {},
   "outputs": [
    {
     "data": {
      "text/plain": [
       "['EUR/CHF']"
      ]
     },
     "execution_count": 18,
     "metadata": {},
     "output_type": "execute_result"
    }
   ],
   "source": [
    "con.get_subscribed_symbols()"
   ]
  },
  {
   "cell_type": "code",
   "execution_count": 19,
   "metadata": {},
   "outputs": [
    {
     "data": {
      "text/plain": [
       "True"
      ]
     },
     "execution_count": 19,
     "metadata": {},
     "output_type": "execute_result"
    }
   ],
   "source": [
    "con.is_subscribed('EUR/CHF')"
   ]
  },
  {
   "cell_type": "code",
   "execution_count": 20,
   "metadata": {},
   "outputs": [
    {
     "data": {
      "text/plain": [
       "Bid     1.06903\n",
       "Ask     1.06922\n",
       "High    1.07254\n",
       "Low     1.06804\n",
       "Name: 2020-01-30 16:29:41.475000, dtype: float64"
      ]
     },
     "execution_count": 20,
     "metadata": {},
     "output_type": "execute_result"
    }
   ],
   "source": [
    "con.get_last_price('EUR/CHF')"
   ]
  },
  {
   "cell_type": "code",
   "execution_count": 22,
   "metadata": {},
   "outputs": [
    {
     "name": "stdout",
     "output_type": "stream",
     "text": [
      "unsubscribed\n"
     ]
    }
   ],
   "source": [
    "con.unsubscribe_market_data('EUR/CHF')\n",
    "print(\"unsubscribed\")"
   ]
  },
  {
   "cell_type": "code",
   "execution_count": 1,
   "metadata": {},
   "outputs": [
    {
     "name": "stdout",
     "output_type": "stream",
     "text": [
      "ur mom gay\n"
     ]
    }
   ],
   "source": [
    "print(\"ur mom gay\")"
   ]
  }
 ],
 "metadata": {
  "kernelspec": {
   "display_name": "Python 3",
   "language": "python",
   "name": "python3"
  },
  "language_info": {
   "codemirror_mode": {
    "name": "ipython",
    "version": 3
   },
   "file_extension": ".py",
   "mimetype": "text/x-python",
   "name": "python",
   "nbconvert_exporter": "python",
   "pygments_lexer": "ipython3",
   "version": "3.7.5"
  }
 },
 "nbformat": 4,
 "nbformat_minor": 4
}
